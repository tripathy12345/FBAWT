{
  "cells": [
    {
      "cell_type": "markdown",
      "metadata": {
        "id": "PLysDWENINec"
      },
      "source": [
        "# Anxiety Detection Work\n"
      ]
    },
    {
      "cell_type": "code",
      "execution_count": 135,
      "metadata": {
        "colab": {
          "base_uri": "https://localhost:8080/"
        },
        "id": "Ln6MOGszIJtH",
        "outputId": "a895c672-ae02-4487-969f-fae05b97096b"
      },
      "outputs": [
        {
          "output_type": "stream",
          "name": "stdout",
          "text": [
            "Drive already mounted at /content/drive; to attempt to forcibly remount, call drive.mount(\"/content/drive\", force_remount=True).\n"
          ]
        }
      ],
      "source": [
        "from google.colab import drive\n",
        "drive.mount('/content/drive')"
      ]
    },
    {
      "cell_type": "code",
      "execution_count": 136,
      "metadata": {
        "id": "WmyIB2QBIXYf"
      },
      "outputs": [],
      "source": [
        "from numpy import mean\n",
        "from numpy import std\n",
        "import numpy as np\n",
        "np.random.seed(0)\n",
        "import pandas as pd\n",
        "from matplotlib import pyplot\n",
        "import matplotlib.pyplot as plt\n",
        "import sklearn\n",
        "from sklearn.metrics import confusion_matrix\n",
        "from scipy.io import loadmat\n",
        "from sklearn.model_selection import train_test_split\n",
        "from sklearn.preprocessing import MinMaxScaler\n",
        "from sklearn.model_selection import GridSearchCV\n",
        "from sklearn.svm import SVC\n",
        "from sklearn.metrics import classification_report\n",
        "from sklearn.metrics import confusion_matrix\n",
        "from sklearn.metrics import accuracy_score\n",
        "import seaborn as sns"
      ]
    },
    {
      "cell_type": "code",
      "execution_count": 137,
      "metadata": {
        "id": "vECm0WTMIbCb"
      },
      "outputs": [],
      "source": [
        "data=loadmat('/content/drive/MyDrive/MGRU_main/data5sec.mat')\n",
        "dataloaded = np.asarray(data['datamerge'])"
      ]
    },
    {
      "cell_type": "code",
      "execution_count": 138,
      "metadata": {
        "colab": {
          "base_uri": "https://localhost:8080/"
        },
        "id": "5VhTo_sTIcfA",
        "outputId": "9e9264a6-4558-4af1-a0f6-f399757baaf6"
      },
      "outputs": [
        {
          "output_type": "execute_result",
          "data": {
            "text/plain": [
              "(9516, 201)"
            ]
          },
          "metadata": {},
          "execution_count": 138
        }
      ],
      "source": [
        "dataloaded.shape"
      ]
    },
    {
      "cell_type": "code",
      "execution_count": 139,
      "metadata": {
        "colab": {
          "base_uri": "https://localhost:8080/"
        },
        "id": "1ZIX3YOxIdxt",
        "outputId": "28126d34-edcf-4a8f-93cf-22f8ceff7175"
      },
      "outputs": [
        {
          "output_type": "stream",
          "name": "stdout",
          "text": [
            "[[9.76502062e-02 7.16745575e-01 2.46489374e-01 ... 5.94217008e+00\n",
            "  5.92042131e+00 1.08640289e+01]\n",
            " [9.95908039e-02 4.51734388e-01 9.49580197e-02 ... 6.11465264e+00\n",
            "  6.09274730e+00 1.09498824e+01]\n",
            " [1.86938366e-01 8.57855764e-01 1.58848125e-01 ... 6.06498573e+00\n",
            "  5.90152046e+00 1.08757157e+01]\n",
            " ...\n",
            " [3.36091357e+00 1.43954172e+00 1.85661237e+00 ... 6.27022103e+00\n",
            "  8.79549512e+00 8.38990271e+00]\n",
            " [2.53701348e+00 2.43600740e+00 1.70623581e+00 ... 9.17622102e+00\n",
            "  6.53788382e+00 8.59781098e+00]\n",
            " [1.41724499e-04 9.25764211e-04 2.09689962e-03 ... 5.05164860e+00\n",
            "  4.86910674e+00 1.76119704e+00]]\n"
          ]
        },
        {
          "output_type": "execute_result",
          "data": {
            "text/plain": [
              "(9516, 200)"
            ]
          },
          "metadata": {},
          "execution_count": 139
        }
      ],
      "source": [
        "X=dataloaded[:,0:dataloaded.shape[1]-1]\n",
        "print(X)\n",
        "X.shape"
      ]
    },
    {
      "cell_type": "code",
      "execution_count": 140,
      "metadata": {
        "colab": {
          "base_uri": "https://localhost:8080/"
        },
        "id": "v_28-wbgIeKR",
        "outputId": "19b4a247-ad08-471f-9241-70486eefa04f"
      },
      "outputs": [
        {
          "output_type": "stream",
          "name": "stdout",
          "text": [
            "[3. 3. 3. ... 0. 0. 0.]\n"
          ]
        },
        {
          "output_type": "execute_result",
          "data": {
            "text/plain": [
              "(9516,)"
            ]
          },
          "metadata": {},
          "execution_count": 140
        }
      ],
      "source": [
        "y=dataloaded[:,dataloaded.shape[1]-1]\n",
        "print(y)\n",
        "y.shape"
      ]
    },
    {
      "cell_type": "code",
      "execution_count": 141,
      "metadata": {
        "id": "VW7YjhAEIflc"
      },
      "outputs": [],
      "source": [
        "X_train, X_test, y_train, y_test = train_test_split(X, y, test_size=0.2, random_state=0) #can change to random state=0 for fixed case"
      ]
    },
    {
      "cell_type": "code",
      "execution_count": 142,
      "metadata": {
        "id": "XvHMHoMhIhC7"
      },
      "outputs": [],
      "source": [
        "#feature scaling\n",
        "scaler = MinMaxScaler()\n",
        "X_train = scaler.fit_transform(X_train)\n",
        "X_test = scaler.transform(X_test)"
      ]
    },
    {
      "cell_type": "code",
      "execution_count": 143,
      "metadata": {
        "colab": {
          "base_uri": "https://localhost:8080/"
        },
        "id": "qoVuqAM0Il5N",
        "outputId": "a6ec6cbe-94ca-4b69-b213-a13026b855e7"
      },
      "outputs": [
        {
          "output_type": "stream",
          "name": "stdout",
          "text": [
            "(7612, 200)\n",
            "(1904, 200)\n",
            "(7612,)\n",
            "(1904,)\n"
          ]
        },
        {
          "output_type": "execute_result",
          "data": {
            "text/plain": [
              "(None, None)"
            ]
          },
          "metadata": {},
          "execution_count": 143
        }
      ],
      "source": [
        "print(X_train.shape), print(X_test.shape)\n",
        "print(y_train.shape), print(y_test.shape)"
      ]
    },
    {
      "cell_type": "code",
      "execution_count": 144,
      "metadata": {
        "colab": {
          "base_uri": "https://localhost:8080/"
        },
        "id": "apsvp1x7IpEY",
        "outputId": "f33f65c9-40aa-4954-c255-5c2352def19c"
      },
      "outputs": [
        {
          "output_type": "stream",
          "name": "stdout",
          "text": [
            "(8431, 200) (8431,)\n"
          ]
        }
      ],
      "source": [
        "from imblearn.over_sampling import SMOTE\n",
        "smote= SMOTE(sampling_strategy='minority')\n",
        "X_sm,y_sm= smote.fit_resample(X_train,y_train)\n",
        "print(X_sm.shape, y_sm.shape)"
      ]
    },
    {
      "cell_type": "markdown",
      "source": [
        "**KNN classifier**"
      ],
      "metadata": {
        "id": "5tKd-dZa0Spf"
      }
    },
    {
      "cell_type": "code",
      "source": [
        "from sklearn.neighbors import KNeighborsClassifier\n",
        "classifier = KNeighborsClassifier(n_neighbors=10)\n",
        "classifier.fit(X_sm, y_sm)\n",
        "y_pred = classifier.predict(X_test)\n",
        "print(\"Results using KNN classifier\")\n",
        "cm1 = confusion_matrix(y_test, y_pred)\n",
        "print(\"confusion matrix \\n\",cm1)\n",
        "cm=pd.crosstab(y_test,y_pred)\n",
        "accuracy=(np.diag(cm).sum()/cm.sum().sum())*100\n",
        "print(accuracy)\n",
        "print(pd.DataFrame(classification_report(y_test,y_pred,output_dict=True)).T)\n",
        "Kappa=sklearn.metrics.cohen_kappa_score(y_test,y_pred) \n",
        "print('Kappa=',Kappa)"
      ],
      "metadata": {
        "colab": {
          "base_uri": "https://localhost:8080/"
        },
        "id": "N8T1c8Du0PoX",
        "outputId": "567df2dd-f6a0-4e9f-d98f-c6e4cd17b706"
      },
      "execution_count": 145,
      "outputs": [
        {
          "output_type": "stream",
          "name": "stdout",
          "text": [
            "Results using KNN classifier\n",
            "confusion matrix \n",
            " [[408  30  39 131]\n",
            " [ 88 176  60  67]\n",
            " [144  98 168  64]\n",
            " [108  47  16 260]]\n",
            "53.15126050420168\n",
            "              precision    recall  f1-score      support\n",
            "0.0            0.545455  0.671053  0.601770   608.000000\n",
            "1.0            0.501425  0.450128  0.474394   391.000000\n",
            "2.0            0.593640  0.354430  0.443857   474.000000\n",
            "3.0            0.498084  0.603248  0.545645   431.000000\n",
            "accuracy       0.531513  0.531513  0.531513     0.531513\n",
            "macro avg      0.534651  0.519715  0.516417  1904.000000\n",
            "weighted avg   0.537685  0.531513  0.523595  1904.000000\n",
            "Kappa= 0.3648745525074727\n"
          ]
        }
      ]
    },
    {
      "cell_type": "markdown",
      "source": [
        "Decision **tree**"
      ],
      "metadata": {
        "id": "DM-vboJaz6mv"
      }
    },
    {
      "cell_type": "code",
      "source": [
        "from sklearn.tree import DecisionTreeClassifier\n",
        "clf_model = DecisionTreeClassifier(criterion=\"gini\", random_state=42, max_depth=10, min_samples_leaf=5)   \n",
        "clf_model.fit(X_sm,y_sm)\n",
        "y_pred = clf_model.predict(X_test)\n",
        "print(\"Results using Decision tree classifier\")\n",
        "cm1 = confusion_matrix(y_test, y_pred)\n",
        "print(\"confusion matrix \\n\",cm1)\n",
        "cm=pd.crosstab(y_test,y_pred)\n",
        "accuracy=(np.diag(cm).sum()/cm.sum().sum())*100\n",
        "print(accuracy)\n",
        "print(pd.DataFrame(classification_report(y_test,y_pred,output_dict=True)).T)\n",
        "Kappa=sklearn.metrics.cohen_kappa_score(y_test,y_pred) \n",
        "print('Kappa=',Kappa)"
      ],
      "metadata": {
        "colab": {
          "base_uri": "https://localhost:8080/"
        },
        "id": "w1aS-BgTz4NI",
        "outputId": "5028b9eb-4feb-4cd8-cefc-a8aa532e5e34"
      },
      "execution_count": 146,
      "outputs": [
        {
          "output_type": "stream",
          "name": "stdout",
          "text": [
            "Results using Decision tree classifier\n",
            "confusion matrix \n",
            " [[483  24  30  71]\n",
            " [ 32 313  35  11]\n",
            " [ 31  46 384  13]\n",
            " [ 69  14   9 339]]\n",
            "79.77941176470588\n",
            "              precision    recall  f1-score      support\n",
            "0.0            0.785366  0.794408  0.789861   608.000000\n",
            "1.0            0.788413  0.800512  0.794416   391.000000\n",
            "2.0            0.838428  0.810127  0.824034   474.000000\n",
            "3.0            0.781106  0.786543  0.783815   431.000000\n",
            "accuracy       0.797794  0.797794  0.797794     0.797794\n",
            "macro avg      0.798328  0.797897  0.798032  1904.000000\n",
            "weighted avg   0.798237  0.797794  0.797935  1904.000000\n",
            "Kappa= 0.7276890906612113\n"
          ]
        }
      ]
    },
    {
      "cell_type": "markdown",
      "source": [
        "LGBM"
      ],
      "metadata": {
        "id": "mwDaPhCbzaIP"
      }
    },
    {
      "cell_type": "code",
      "source": [
        "import lightgbm as lgb\n",
        "model = lgb.LGBMClassifier(learning_rate=0.25,max_depth=3,random_state=42)\n",
        "model.fit(X_sm,y_sm,eval_set=[(X_test,y_test),(X_sm,y_sm)],\n",
        "          verbose=20,eval_metric='logloss')\n",
        "y_pred = model.predict(X_test)\n",
        "print(confusion_matrix(y_test,y_pred))\n",
        "\n",
        "cm=pd.crosstab(y_test,y_pred)\n",
        "\n",
        "accuracy=(np.diag(cm).sum()/cm.sum().sum())*100\n",
        "print('Accuracy=',accuracy)\n",
        "print(pd.DataFrame(classification_report(y_test,y_pred,output_dict=True)).T)\n",
        "Kappa=sklearn.metrics.cohen_kappa_score(y_test,y_pred) \n",
        "print('Kappa=',Kappa)"
      ],
      "metadata": {
        "colab": {
          "base_uri": "https://localhost:8080/"
        },
        "id": "ePmdhrN8zWHY",
        "outputId": "c0722f1c-688e-4a64-859b-612246b09a63"
      },
      "execution_count": 147,
      "outputs": [
        {
          "output_type": "stream",
          "name": "stderr",
          "text": [
            "/usr/local/lib/python3.9/dist-packages/lightgbm/sklearn.py:736: UserWarning: 'verbose' argument is deprecated and will be removed in a future release of LightGBM. Pass 'log_evaluation()' callback via 'callbacks' argument instead.\n",
            "  _log_warning(\"'verbose' argument is deprecated and will be removed in a future release of LightGBM. \"\n"
          ]
        },
        {
          "output_type": "stream",
          "name": "stdout",
          "text": [
            "[20]\ttraining's multi_logloss: 0.461813\tvalid_0's multi_logloss: 0.503359\n",
            "[40]\ttraining's multi_logloss: 0.291846\tvalid_0's multi_logloss: 0.368388\n",
            "[60]\ttraining's multi_logloss: 0.210227\tvalid_0's multi_logloss: 0.317444\n",
            "[80]\ttraining's multi_logloss: 0.15123\tvalid_0's multi_logloss: 0.281373\n",
            "[100]\ttraining's multi_logloss: 0.113344\tvalid_0's multi_logloss: 0.260787\n",
            "[[553   1   5  49]\n",
            " [  5 362  16   8]\n",
            " [ 10  15 449   0]\n",
            " [ 45   5  10 371]]\n",
            "Accuracy= 91.12394957983193\n",
            "              precision    recall  f1-score      support\n",
            "0.0            0.902121  0.909539  0.905815   608.000000\n",
            "1.0            0.945170  0.925831  0.935401   391.000000\n",
            "2.0            0.935417  0.947257  0.941300   474.000000\n",
            "3.0            0.866822  0.860789  0.863795   431.000000\n",
            "accuracy       0.911239  0.911239  0.911239     0.911239\n",
            "macro avg      0.912382  0.910854  0.911578  1904.000000\n",
            "weighted avg   0.911260  0.911239  0.911213  1904.000000\n",
            "Kappa= 0.8804149442669034\n"
          ]
        }
      ]
    },
    {
      "cell_type": "markdown",
      "metadata": {
        "id": "w4CT2p1_It64"
      },
      "source": [
        "# XGBoost classifier"
      ]
    },
    {
      "cell_type": "code",
      "execution_count": 148,
      "metadata": {
        "id": "kZZDN99oKNAz"
      },
      "outputs": [],
      "source": [
        "from sklearn.ensemble import GradientBoostingClassifier\n",
        "from sklearn.preprocessing import StandardScaler\n",
        "from sklearn.model_selection import GridSearchCV\n",
        "from sklearn.pipeline import Pipeline\n",
        "from xgboost import XGBClassifier"
      ]
    },
    {
      "cell_type": "code",
      "execution_count": 157,
      "metadata": {
        "colab": {
          "base_uri": "https://localhost:8080/"
        },
        "id": "ijFp3M9jJ5IQ",
        "outputId": "e29c8135-7f2a-43e7-9c29-b0ecb116ffd9"
      },
      "outputs": [
        {
          "output_type": "stream",
          "name": "stdout",
          "text": [
            "\u001b[1mAccuracy : 92.38%\u001b[0m\n",
            "\u001b[1mClassification report : \u001b[0m\n",
            "               precision    recall  f1-score   support\n",
            "\n",
            "         0.0       0.92      0.91      0.91       608\n",
            "         1.0       0.94      0.95      0.95       391\n",
            "         2.0       0.96      0.96      0.96       474\n",
            "         3.0       0.88      0.88      0.88       431\n",
            "\n",
            "    accuracy                           0.92      1904\n",
            "   macro avg       0.92      0.92      0.92      1904\n",
            "weighted avg       0.92      0.92      0.92      1904\n",
            "\n",
            "confusion matrix \n",
            " [[555   3   8  40]\n",
            " [  3 371  13   7]\n",
            " [  3  13 453   4]\n",
            " [ 47   4   0 380]]\n"
          ]
        }
      ],
      "source": [
        "# Extreme gradient Boosting classifier \n",
        "\n",
        "xgb = XGBClassifier(max_depth =8,\n",
        "                        min_child_weight = 1,\n",
        "                        gamma = 0.7,\n",
        "                        subsample = 0.8,\n",
        "                        colsample_bytree = 1,\n",
        "                        learning_rate = 0.1,\n",
        "                        reg_alpha=0.05)\n",
        "\n",
        "xgb.fit(X_sm, y_sm)\n",
        "y_pred = xgb.predict(X_test)\n",
        "\n",
        "xgb_accuracy = accuracy_score(y_pred, y_test) * 100\n",
        "\n",
        "#print('\\033[1m' +'Best parameters : '+ '\\033[0m', cv.best_params_)\n",
        "print('\\033[1m' +'Accuracy : {:.2f}%'.format(xgb_accuracy) + '\\033[0m')\n",
        "print('\\033[1m' +'Classification report : '+ '\\033[0m\\n', classification_report(y_test, y_pred))\n",
        "\n",
        "cm = confusion_matrix(y_pred, y_test)\n",
        "print(\"confusion matrix \\n\",cm)"
      ]
    },
    {
      "cell_type": "code",
      "execution_count": 158,
      "metadata": {
        "colab": {
          "base_uri": "https://localhost:8080/"
        },
        "id": "NlrlCF0WPUtn",
        "outputId": "383cf951-ea48-4dd2-a401-e1b8a8183f41"
      },
      "outputs": [
        {
          "output_type": "stream",
          "name": "stdout",
          "text": [
            "92.3844537815126\n",
            "              precision    recall  f1-score      support\n",
            "0.0            0.915842  0.912829  0.914333   608.000000\n",
            "1.0            0.941624  0.948849  0.945223   391.000000\n",
            "2.0            0.957717  0.955696  0.956705   474.000000\n",
            "3.0            0.881671  0.881671  0.881671   431.000000\n",
            "accuracy       0.923845  0.923845  0.923845     0.923845\n",
            "macro avg      0.924213  0.924761  0.924483  1904.000000\n",
            "weighted avg   0.923826  0.923845  0.923831  1904.000000\n",
            "Kappa= 0.8974728818223445\n"
          ]
        }
      ],
      "source": [
        "cm=pd.crosstab(y_test,y_pred)\n",
        "accuracy=(np.diag(cm).sum()/cm.sum().sum())*100\n",
        "print(accuracy)\n",
        "print(pd.DataFrame(classification_report(y_test,y_pred,output_dict=True)).T)\n",
        "Kappa=sklearn.metrics.cohen_kappa_score(y_test,y_pred) \n",
        "print('Kappa=',Kappa)"
      ]
    },
    {
      "cell_type": "markdown",
      "source": [
        "Random **Forest**"
      ],
      "metadata": {
        "id": "BY6fV2RWzo43"
      }
    },
    {
      "cell_type": "code",
      "source": [
        "from sklearn.ensemble import RandomForestClassifier\n",
        "clf = RandomForestClassifier(n_estimators = 100) \n",
        "clf.fit(X_sm, y_sm)\n",
        "y_pred = clf.predict(X_test)\n",
        "print(\"Results using Random forest classifier\")\n",
        "cm1 = confusion_matrix(y_test, y_pred)\n",
        "print(\"confusion matrix \\n\",cm1)\n",
        "cm=pd.crosstab(y_test,y_pred)\n",
        "accuracy=(np.diag(cm).sum()/cm.sum().sum())*100\n",
        "print(accuracy)\n",
        "print(pd.DataFrame(classification_report(y_test,y_pred,output_dict=True)).T)\n",
        "Kappa=sklearn.metrics.cohen_kappa_score(y_test,y_pred) \n",
        "print('Kappa=',Kappa)"
      ],
      "metadata": {
        "colab": {
          "base_uri": "https://localhost:8080/"
        },
        "id": "U6ldowerznbo",
        "outputId": "dc12d57d-06f5-4b5b-b11f-e8b1dee84f2e"
      },
      "execution_count": 151,
      "outputs": [
        {
          "output_type": "stream",
          "name": "stdout",
          "text": [
            "Results using Random forest classifier\n",
            "confusion matrix \n",
            " [[550   2   4  52]\n",
            " [ 11 304  54  22]\n",
            " [ 15   6 452   1]\n",
            " [ 53   8  11 359]]\n",
            "87.44747899159664\n",
            "              precision    recall  f1-score      support\n",
            "0.0            0.874404  0.904605  0.889248   608.000000\n",
            "1.0            0.950000  0.777494  0.855134   391.000000\n",
            "2.0            0.867562  0.953586  0.908543   474.000000\n",
            "3.0            0.827189  0.832947  0.830058   431.000000\n",
            "accuracy       0.874475  0.874475  0.874475     0.874475\n",
            "macro avg      0.879789  0.867158  0.870746  1904.000000\n",
            "weighted avg   0.877537  0.874475  0.873647  1904.000000\n",
            "Kappa= 0.830434303055235\n"
          ]
        }
      ]
    },
    {
      "cell_type": "markdown",
      "source": [
        "**Extra Tree classifier**"
      ],
      "metadata": {
        "id": "DM_J28Yi0HAf"
      }
    },
    {
      "cell_type": "code",
      "source": [
        "from sklearn.ensemble import ExtraTreesClassifier\n",
        "# Building the model\n",
        "extra_tree_forest = ExtraTreesClassifier(n_estimators = 100,\n",
        "                                        criterion ='entropy', max_features = 200)  \n",
        "# Training the model\n",
        "extra_tree_forest.fit(X_sm, y_sm)\n",
        "y_pred = extra_tree_forest.predict(X_test)\n",
        "print(\"Results using Extra tree classifier\")\n",
        "cm1 = confusion_matrix(y_test, y_pred)\n",
        "print(\"confusion matrix \\n\",cm1)\n",
        "cm=pd.crosstab(y_test,y_pred)\n",
        "accuracy=(np.diag(cm).sum()/cm.sum().sum())*100\n",
        "print(accuracy)\n",
        "print(pd.DataFrame(classification_report(y_test,y_pred,output_dict=True)).T)\n",
        "Kappa=sklearn.metrics.cohen_kappa_score(y_test,y_pred) \n",
        "print('Kappa=',Kappa)"
      ],
      "metadata": {
        "colab": {
          "base_uri": "https://localhost:8080/"
        },
        "id": "T7lOl4MT0Fyn",
        "outputId": "d20e1d2c-7936-4e2e-a034-ee3c79c517c6"
      },
      "execution_count": 152,
      "outputs": [
        {
          "output_type": "stream",
          "name": "stdout",
          "text": [
            "Results using Extra tree classifier\n",
            "confusion matrix \n",
            " [[552   1   6  49]\n",
            " [  3 346  34   8]\n",
            " [  5  12 456   1]\n",
            " [ 51   9   4 367]]\n",
            "90.38865546218487\n",
            "              precision    recall  f1-score      support\n",
            "0.0            0.903437  0.907895  0.905660   608.000000\n",
            "1.0            0.940217  0.884910  0.911726   391.000000\n",
            "2.0            0.912000  0.962025  0.936345   474.000000\n",
            "3.0            0.863529  0.851508  0.857477   431.000000\n",
            "accuracy       0.903887  0.903887  0.903887     0.903887\n",
            "macro avg      0.904796  0.901585  0.902802  1904.000000\n",
            "weighted avg   0.904088  0.903887  0.903638  1904.000000\n",
            "Kappa= 0.8704552425673829\n"
          ]
        }
      ]
    }
  ],
  "metadata": {
    "colab": {
      "provenance": []
    },
    "kernelspec": {
      "display_name": "Python 3",
      "name": "python3"
    },
    "language_info": {
      "name": "python"
    }
  },
  "nbformat": 4,
  "nbformat_minor": 0
}